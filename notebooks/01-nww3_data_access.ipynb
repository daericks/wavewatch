{
 "cells": [
  {
   "cell_type": "code",
   "execution_count": 20,
   "metadata": {
    "ExecuteTime": {
     "end_time": "2020-02-04T22:03:26.543530Z",
     "start_time": "2020-02-04T22:03:26.538403Z"
    }
   },
   "outputs": [],
   "source": [
    "# basic NOMADS OpenDAP extraction and plotting script\n",
    "# from mpl_toolkits.basemap import Basemap\n",
    "import numpy as np\n",
    "# import matplotlib.pyplot as plt\n",
    "import netCDF4\n",
    "# import pygrib\n",
    "%matplotlib inline\n",
    "import matplotlib.pyplot as plt\n",
    "\n",
    "# How to write the files?\n",
    "# import os\n",
    "# THIS_FOLDER = os.path.dirname(os.path.abspath(__file__))\n",
    "# my_file = os.path.join(THIS_FOLDER, 'myfile.txt')\n",
    "\n",
    "import urllib\n"
   ]
  },
  {
   "cell_type": "code",
   "execution_count": 2,
   "metadata": {
    "ExecuteTime": {
     "end_time": "2020-02-04T22:02:01.644141Z",
     "start_time": "2020-02-04T22:02:01.637486Z"
    }
   },
   "outputs": [],
   "source": [
    "\n",
    "# set up the figure\n",
    "# plt.figure()"
   ]
  },
  {
   "cell_type": "code",
   "execution_count": 3,
   "metadata": {
    "ExecuteTime": {
     "end_time": "2020-02-04T22:02:05.623793Z",
     "start_time": "2020-02-04T22:02:01.650118Z"
    }
   },
   "outputs": [],
   "source": [
    "\n",
    "\n",
    "# set up the URL to access the data server.\n",
    "# See the NWW3 directory on NOMADS \n",
    "# for the list of available model run dates.\n",
    "\n",
    "mydate='20200203'\n",
    "url='https://nomads.ncep.noaa.gov:9090/dods/wave/nww3/nww3'+ \\\n",
    "    mydate+'/nww3'+mydate+'_00z'\n",
    "\n",
    "# Extract the significant wave height of combined wind waves and swell\n",
    "\n",
    "file = netCDF4.Dataset(url)\n",
    "time = file.variables['time'][:]\n",
    "lat  = file.variables['lat'][:]\n",
    "lon  = file.variables['lon'][:]\n",
    "data = file.variables['htsgwsfc'][:,1,1]\n",
    "# htsgwsfc long_name: \"** surface none significant height of combined wind waves and swell [m] \" \n",
    "file.close()\n",
    "\n",
    "\n",
    "# Since Python is object oriented, you can explore the contents of the NOMADS\n",
    "# data set by examining the file object, such as file.variables.\n",
    "\n",
    "# The indexing into the data set used by netCDF4 is standard python indexing.\n",
    "# In this case we want the first forecast step, but note that the first time \n",
    "# step in the RTOFS OpenDAP link is all NaN values.  So we start with the \n",
    "# second timestep"
   ]
  },
  {
   "cell_type": "code",
   "execution_count": 4,
   "metadata": {
    "ExecuteTime": {
     "end_time": "2020-02-04T22:02:05.637890Z",
     "start_time": "2020-02-04T22:02:05.626477Z"
    }
   },
   "outputs": [
    {
     "data": {
      "text/plain": [
       "masked_array(data=[--, --, --, --, --, --, --, --, --, --, --, --, --, --,\n",
       "                   --, --, --, --, --, --, --, --, --, --, --, --, --, --,\n",
       "                   --, --, --, --, --, --, --, --, --, --, --, --, --, --,\n",
       "                   --, --, --, --, --, --, --, --, --, --, --, --, --, --,\n",
       "                   --, --, --, --, --],\n",
       "             mask=[ True,  True,  True,  True,  True,  True,  True,  True,\n",
       "                    True,  True,  True,  True,  True,  True,  True,  True,\n",
       "                    True,  True,  True,  True,  True,  True,  True,  True,\n",
       "                    True,  True,  True,  True,  True,  True,  True,  True,\n",
       "                    True,  True,  True,  True,  True,  True,  True,  True,\n",
       "                    True,  True,  True,  True,  True,  True,  True,  True,\n",
       "                    True,  True,  True,  True,  True,  True,  True,  True,\n",
       "                    True,  True,  True,  True,  True],\n",
       "       fill_value=9.999e+20,\n",
       "            dtype=float32)"
      ]
     },
     "execution_count": 4,
     "metadata": {},
     "output_type": "execute_result"
    }
   ],
   "source": [
    "data"
   ]
  },
  {
   "cell_type": "code",
   "execution_count": 5,
   "metadata": {
    "ExecuteTime": {
     "end_time": "2020-02-04T22:02:05.645563Z",
     "start_time": "2020-02-04T22:02:05.640569Z"
    }
   },
   "outputs": [],
   "source": [
    "# Find indeces of closest grid point\n",
    "# Grab all time points at that position\n",
    "# Plot the timeseries"
   ]
  },
  {
   "cell_type": "code",
   "execution_count": 6,
   "metadata": {
    "ExecuteTime": {
     "end_time": "2020-02-04T22:02:06.559389Z",
     "start_time": "2020-02-04T22:02:05.650981Z"
    }
   },
   "outputs": [],
   "source": [
    "# Find indeces of closest grid point\n",
    "def closestGridPt(buoy_lat, buoy_lon, url):\n",
    "    file = netCDF4.Dataset(url)\n",
    "    grid_lats  = file.variables['lat'][:]\n",
    "    grid_lons  = file.variables['lon'][:]\n",
    "    file.close()\n",
    "    \n",
    "    lat_diffs = [abs(grid_lat - buoy_lat) for grid_lat in grid_lats]\n",
    "    lat_index = lat_diffs.index(min(lat_diffs))\n",
    "    lon_diffs = [abs(grid_lon - buoy_lon) for grid_lon in grid_lons]\n",
    "    lon_index = lon_diffs.index(min(lon_diffs))\n",
    "    # Return (lon_index-1) to ensure that the returned point is WEST of the requested point\n",
    "    # Without this, returning buoys on the US West Coast was sometimes returning values inland \n",
    "    # which are null\n",
    "    return lat_index, (lon_index-1)\n",
    "# Later may want to save ALL LOCATIONS. \n",
    "# Do feature selection to determine which data are worth keeping\n",
    "\n",
    "buoy_lat = 37.78760\n",
    "buoy_lon = 360 - 122.63260\n",
    "lat_index, lon_index = closestGridPt(buoy_lat, buoy_lon, url)"
   ]
  },
  {
   "cell_type": "code",
   "execution_count": 7,
   "metadata": {
    "ExecuteTime": {
     "end_time": "2020-02-04T22:02:06.571704Z",
     "start_time": "2020-02-04T22:02:06.565143Z"
    }
   },
   "outputs": [
    {
     "data": {
      "text/plain": [
       "(116, 189)"
      ]
     },
     "execution_count": 7,
     "metadata": {},
     "output_type": "execute_result"
    }
   ],
   "source": [
    "lat_index, lon_index"
   ]
  },
  {
   "cell_type": "code",
   "execution_count": 8,
   "metadata": {
    "ExecuteTime": {
     "end_time": "2020-02-04T22:02:06.582832Z",
     "start_time": "2020-02-04T22:02:06.575400Z"
    }
   },
   "outputs": [
    {
     "data": {
      "text/plain": [
       "(38.0, 123.75)"
      ]
     },
     "execution_count": 8,
     "metadata": {},
     "output_type": "execute_result"
    }
   ],
   "source": [
    "lat[lat_index], 360-lon[lon_index]"
   ]
  },
  {
   "cell_type": "code",
   "execution_count": 9,
   "metadata": {
    "ExecuteTime": {
     "end_time": "2020-02-04T22:02:13.611149Z",
     "start_time": "2020-02-04T22:02:06.586403Z"
    }
   },
   "outputs": [],
   "source": [
    "# Grab all time points closest to the buoy\n",
    "\n",
    "file = netCDF4.Dataset(url)\n",
    "time = file.variables['time'][:]\n",
    "lat  = file.variables['lat'][:]\n",
    "lon  = file.variables['lon'][:]\n",
    "data = file.variables['htsgwsfc'][:,lat_index,lon_index]\n",
    "# htsgwsfc long_name: \"** surface none significant height of combined wind waves and swell [m] \" \n",
    "file.close()"
   ]
  },
  {
   "cell_type": "code",
   "execution_count": 10,
   "metadata": {
    "ExecuteTime": {
     "end_time": "2020-02-04T22:02:13.625764Z",
     "start_time": "2020-02-04T22:02:13.613952Z"
    }
   },
   "outputs": [
    {
     "data": {
      "text/plain": [
       "masked_array(data=[4.12     , 3.97     , 4.15     , 4.31     , 4.36     ,\n",
       "                   4.5299997, 4.5899997, 4.5099998, 4.43     , 4.44     ,\n",
       "                   4.3199997, 4.       , 3.6799998, 3.48     , 3.37     ,\n",
       "                   3.27     , 3.24     , 3.26     , 3.21     , 3.11     ,\n",
       "                   2.99     , 2.8799999, 2.78     , 2.6799998, 2.58     ,\n",
       "                   2.59     , 2.6799998, 2.69     , 2.58     , 2.4299998,\n",
       "                   2.29     , 2.2      , 2.1499999, 2.18     , 2.27     ,\n",
       "                   2.33     , 2.34     , 2.3      , 2.23     , 2.1399999,\n",
       "                   2.11     , 2.18     , 2.33     , 2.48     , 2.6499999,\n",
       "                   2.81     , 3.02     , 3.4199998, 3.9199998, 4.48     ,\n",
       "                   4.87     , 4.91     , 5.06     , 5.46     , 5.15     ,\n",
       "                   4.72     , 4.72     , 4.72     , 4.47     , 4.17     ,\n",
       "                   3.83     ],\n",
       "             mask=False,\n",
       "       fill_value=1e+20,\n",
       "            dtype=float32)"
      ]
     },
     "execution_count": 10,
     "metadata": {},
     "output_type": "execute_result"
    }
   ],
   "source": [
    "data"
   ]
  },
  {
   "cell_type": "code",
   "execution_count": 11,
   "metadata": {
    "ExecuteTime": {
     "end_time": "2020-02-04T22:02:13.637809Z",
     "start_time": "2020-02-04T22:02:13.628233Z"
    }
   },
   "outputs": [
    {
     "data": {
      "text/plain": [
       "masked_array(data=[737459.   , 737459.125, 737459.25 , 737459.375,\n",
       "                   737459.5  , 737459.625, 737459.75 , 737459.875,\n",
       "                   737460.   , 737460.125, 737460.25 , 737460.375,\n",
       "                   737460.5  , 737460.625, 737460.75 , 737460.875,\n",
       "                   737461.   , 737461.125, 737461.25 , 737461.375,\n",
       "                   737461.5  , 737461.625, 737461.75 , 737461.875,\n",
       "                   737462.   , 737462.125, 737462.25 , 737462.375,\n",
       "                   737462.5  , 737462.625, 737462.75 , 737462.875,\n",
       "                   737463.   , 737463.125, 737463.25 , 737463.375,\n",
       "                   737463.5  , 737463.625, 737463.75 , 737463.875,\n",
       "                   737464.   , 737464.125, 737464.25 , 737464.375,\n",
       "                   737464.5  , 737464.625, 737464.75 , 737464.875,\n",
       "                   737465.   , 737465.125, 737465.25 , 737465.375,\n",
       "                   737465.5  , 737465.625, 737465.75 , 737465.875,\n",
       "                   737466.   , 737466.125, 737466.25 , 737466.375,\n",
       "                   737466.5  ],\n",
       "             mask=False,\n",
       "       fill_value=1e+20)"
      ]
     },
     "execution_count": 11,
     "metadata": {},
     "output_type": "execute_result"
    }
   ],
   "source": [
    "time"
   ]
  },
  {
   "cell_type": "code",
   "execution_count": 12,
   "metadata": {
    "ExecuteTime": {
     "end_time": "2020-02-04T22:02:13.876224Z",
     "start_time": "2020-02-04T22:02:13.640866Z"
    }
   },
   "outputs": [
    {
     "data": {
      "text/plain": [
       "[<matplotlib.lines.Line2D at 0x119df6610>]"
      ]
     },
     "execution_count": 12,
     "metadata": {},
     "output_type": "execute_result"
    },
    {
     "data": {
      "image/png": "[encoded data removed]",
      "text/plain": [
       "<Figure size 432x288 with 1 Axes>"
      ]
     },
     "metadata": {
      "needs_background": "light"
     },
     "output_type": "display_data"
    }
   ],
   "source": [
    "# Plot the timeseries\n",
    "plt.plot(time, data, '.')"
   ]
  },
  {
   "cell_type": "code",
   "execution_count": 13,
   "metadata": {
    "ExecuteTime": {
     "end_time": "2020-02-04T22:02:21.285514Z",
     "start_time": "2020-02-04T22:02:13.879275Z"
    }
   },
   "outputs": [],
   "source": [
    "# Grab and save all data. Merge with any existing data.\n",
    "# Grab all time points closest to the buoy\n",
    "\n",
    "file = netCDF4.Dataset(url)\n",
    "time = file.variables['time'][:]\n",
    "lat  = file.variables['lat'][:]\n",
    "lon  = file.variables['lon'][:]\n",
    "data = file.variables['htsgwsfc'][:,:,:]\n",
    "# htsgwsfc long_name: \"** surface none significant height of combined wind waves and swell [m] \" \n",
    "file.close()\n",
    "\n"
   ]
  },
  {
   "cell_type": "code",
   "execution_count": 45,
   "metadata": {
    "ExecuteTime": {
     "end_time": "2020-02-04T23:22:26.236693Z",
     "start_time": "2020-02-04T23:21:56.434268Z"
    }
   },
   "outputs": [
    {
     "data": {
      "text/plain": [
       "('/Users/daviderickson/projects/wavewatch/data/nomads_nww3/20200203htsgwsfc.ascii',\n",
       " <http.client.HTTPMessage at 0x11c35d810>)"
      ]
     },
     "execution_count": 45,
     "metadata": {},
     "output_type": "execute_result"
    }
   ],
   "source": [
    "save_dir = '/Users/daviderickson/projects/wavewatch/data/nomads_nww3/'\n",
    "filename = save_dir + mydate + 'htsgwsfc' +'.ascii'\n",
    "\n",
    "mydate = '20200203'\n",
    "url='https://nomads.ncep.noaa.gov:9090/dods/wave/nww3/nww3'+ \\\n",
    "    mydate+'/nww3'+mydate+'_00z' + '.ascii?htsgwsfc'\n",
    "# savefile = open(filename, 'w')\n",
    "\n",
    "urllib.request.urlretrieve(url, filename)"
   ]
  },
  {
   "cell_type": "code",
   "execution_count": 46,
   "metadata": {
    "ExecuteTime": {
     "end_time": "2020-02-04T23:31:45.700516Z",
     "start_time": "2020-02-04T23:31:41.537191Z"
    }
   },
   "outputs": [
    {
     "data": {
      "text/plain": [
       "('/Users/daviderickson/projects/wavewatch/data/nomads_nww3/20200203htsgwsfc.grib',\n",
       " <http.client.HTTPMessage at 0x11c363690>)"
      ]
     },
     "execution_count": 46,
     "metadata": {},
     "output_type": "execute_result"
    }
   ],
   "source": [
    "filetype = '.grib'\n",
    "\n",
    "save_dir = '/Users/daviderickson/projects/wavewatch/data/nomads_nww3/'\n",
    "filename = save_dir + mydate + 'htsgwsfc' + filetype\n",
    "\n",
    "mydate = '20200203'\n",
    "url='https://nomads.ncep.noaa.gov:9090/dods/wave/nww3/nww3'+ \\\n",
    "    mydate+'/nww3'+mydate+'_00z' + '.' + filetype + '?htsgwsfc'\n",
    "# savefile = open(filename, 'w')\n",
    "\n",
    "urllib.request.urlretrieve(url, filename)"
   ]
  },
  {
   "cell_type": "code",
   "execution_count": 43,
   "metadata": {
    "ExecuteTime": {
     "end_time": "2020-02-04T23:16:59.449679Z",
     "start_time": "2020-02-04T23:16:59.400691Z"
    }
   },
   "outputs": [
    {
     "ename": "OSError",
     "evalue": "[Errno -51] NetCDF: Unknown file format: b'/Users/daviderickson/projects/wavewatch/data/nomads_nww3/20200203htsgwsfc.nc'",
     "output_type": "error",
     "traceback": [
      "\u001b[0;31m---------------------------------------------------------------------------\u001b[0m",
      "\u001b[0;31mOSError\u001b[0m                                   Traceback (most recent call last)",
      "\u001b[0;32m<ipython-input-43-8ad064611eb7>\u001b[0m in \u001b[0;36m<module>\u001b[0;34m\u001b[0m\n\u001b[0;32m----> 1\u001b[0;31m \u001b[0mfile\u001b[0m \u001b[0;34m=\u001b[0m \u001b[0mnetCDF4\u001b[0m\u001b[0;34m.\u001b[0m\u001b[0mDataset\u001b[0m\u001b[0;34m(\u001b[0m\u001b[0mfilename\u001b[0m\u001b[0;34m)\u001b[0m\u001b[0;34m\u001b[0m\u001b[0;34m\u001b[0m\u001b[0m\n\u001b[0m\u001b[1;32m      2\u001b[0m \u001b[0mdata\u001b[0m \u001b[0;34m=\u001b[0m \u001b[0mfile\u001b[0m\u001b[0;34m.\u001b[0m\u001b[0mvariables\u001b[0m\u001b[0;34m[\u001b[0m\u001b[0;34m'htsgwsfc'\u001b[0m\u001b[0;34m]\u001b[0m\u001b[0;34m[\u001b[0m\u001b[0;34m:\u001b[0m\u001b[0;34m,\u001b[0m\u001b[0;36m1\u001b[0m\u001b[0;34m,\u001b[0m\u001b[0;36m1\u001b[0m\u001b[0;34m]\u001b[0m\u001b[0;34m\u001b[0m\u001b[0;34m\u001b[0m\u001b[0m\n\u001b[1;32m      3\u001b[0m \u001b[0mdata\u001b[0m\u001b[0;34m\u001b[0m\u001b[0;34m\u001b[0m\u001b[0m\n\u001b[1;32m      4\u001b[0m \u001b[0mfile\u001b[0m\u001b[0;34m.\u001b[0m\u001b[0mclose\u001b[0m\u001b[0;34m(\u001b[0m\u001b[0;34m)\u001b[0m\u001b[0;34m\u001b[0m\u001b[0;34m\u001b[0m\u001b[0m\n",
      "\u001b[0;32mnetCDF4/_netCDF4.pyx\u001b[0m in \u001b[0;36mnetCDF4._netCDF4.Dataset.__init__\u001b[0;34m()\u001b[0m\n",
      "\u001b[0;32mnetCDF4/_netCDF4.pyx\u001b[0m in \u001b[0;36mnetCDF4._netCDF4._ensure_nc_success\u001b[0;34m()\u001b[0m\n",
      "\u001b[0;31mOSError\u001b[0m: [Errno -51] NetCDF: Unknown file format: b'/Users/daviderickson/projects/wavewatch/data/nomads_nww3/20200203htsgwsfc.nc'"
     ]
    }
   ],
   "source": [
    "file = netCDF4.Dataset(filename)\n",
    "data = file.variables['htsgwsfc'][:,1,1]\n",
    "data\n",
    "file.close()"
   ]
  },
  {
   "cell_type": "code",
   "execution_count": 17,
   "metadata": {
    "ExecuteTime": {
     "end_time": "2020-02-04T22:02:22.384159Z",
     "start_time": "2020-02-04T22:02:22.375444Z"
    }
   },
   "outputs": [
    {
     "data": {
      "text/plain": [
       "(61, 157, 288)"
      ]
     },
     "execution_count": 17,
     "metadata": {},
     "output_type": "execute_result"
    }
   ],
   "source": [
    "data.shape"
   ]
  },
  {
   "cell_type": "code",
   "execution_count": 18,
   "metadata": {
    "ExecuteTime": {
     "end_time": "2020-02-04T22:02:22.392204Z",
     "start_time": "2020-02-04T22:02:22.387310Z"
    }
   },
   "outputs": [],
   "source": [
    "# Grab and save all data. Merge with any existing data.\n",
    "# Building database to use for modeling later\n",
    "\n",
    "# Positions close to buoys of interest. Perhaps all locations for now? \n",
    "# All files, times, variables of interest, "
   ]
  },
  {
   "cell_type": "code",
   "execution_count": 19,
   "metadata": {
    "ExecuteTime": {
     "end_time": "2020-02-04T22:02:22.409257Z",
     "start_time": "2020-02-04T22:02:22.397460Z"
    }
   },
   "outputs": [],
   "source": [
    "# mydate = '20200203'\n",
    "# url = ''\n",
    "\n",
    "# 'https://nomads.ncep.noaa.gov:9090/dods/wave/nww3/nww320200203/nww320200203_00z.ascii?htsgwsfc[0][0][0]'"
   ]
  },
  {
   "cell_type": "code",
   "execution_count": 30,
   "metadata": {
    "ExecuteTime": {
     "end_time": "2020-02-04T22:57:27.944029Z",
     "start_time": "2020-02-04T22:57:25.565836Z"
    }
   },
   "outputs": [
    {
     "ename": "OSError",
     "evalue": "[Errno -70] NetCDF: DAP server error: b'https://nomads.ncep.noaa.gov:9090/dods/wave/nww3/nww320200128/nww320200128_00z'",
     "output_type": "error",
     "traceback": [
      "\u001b[0;31m---------------------------------------------------------------------------\u001b[0m",
      "\u001b[0;31mOSError\u001b[0m                                   Traceback (most recent call last)",
      "\u001b[0;32m<ipython-input-30-ada6e133715e>\u001b[0m in \u001b[0;36m<module>\u001b[0;34m\u001b[0m\n\u001b[1;32m      5\u001b[0m \u001b[0;34m\u001b[0m\u001b[0m\n\u001b[1;32m      6\u001b[0m \u001b[0;31m# Extract the significant wave height of combined wind waves and swell\u001b[0m\u001b[0;34m\u001b[0m\u001b[0;34m\u001b[0m\u001b[0;34m\u001b[0m\u001b[0m\n\u001b[0;32m----> 7\u001b[0;31m \u001b[0mfile\u001b[0m \u001b[0;34m=\u001b[0m \u001b[0mnetCDF4\u001b[0m\u001b[0;34m.\u001b[0m\u001b[0mDataset\u001b[0m\u001b[0;34m(\u001b[0m\u001b[0murl\u001b[0m\u001b[0;34m)\u001b[0m\u001b[0;34m\u001b[0m\u001b[0;34m\u001b[0m\u001b[0m\n\u001b[0m\u001b[1;32m      8\u001b[0m \u001b[0mdata\u001b[0m \u001b[0;34m=\u001b[0m \u001b[0mfile\u001b[0m\u001b[0;34m.\u001b[0m\u001b[0mvariables\u001b[0m\u001b[0;34m[\u001b[0m\u001b[0;34m'htsgwsfc'\u001b[0m\u001b[0;34m]\u001b[0m\u001b[0;34m[\u001b[0m\u001b[0;34m:\u001b[0m\u001b[0;34m,\u001b[0m\u001b[0;36m1\u001b[0m\u001b[0;34m,\u001b[0m\u001b[0;36m1\u001b[0m\u001b[0;34m]\u001b[0m\u001b[0;34m\u001b[0m\u001b[0;34m\u001b[0m\u001b[0m\n\u001b[1;32m      9\u001b[0m \u001b[0;31m# htsgwsfc long_name: \"** surface none significant height of combined wind waves and swell [m] \"\u001b[0m\u001b[0;34m\u001b[0m\u001b[0;34m\u001b[0m\u001b[0;34m\u001b[0m\u001b[0m\n",
      "\u001b[0;32mnetCDF4/_netCDF4.pyx\u001b[0m in \u001b[0;36mnetCDF4._netCDF4.Dataset.__init__\u001b[0;34m()\u001b[0m\n",
      "\u001b[0;32mnetCDF4/_netCDF4.pyx\u001b[0m in \u001b[0;36mnetCDF4._netCDF4._ensure_nc_success\u001b[0;34m()\u001b[0m\n",
      "\u001b[0;31mOSError\u001b[0m: [Errno -70] NetCDF: DAP server error: b'https://nomads.ncep.noaa.gov:9090/dods/wave/nww3/nww320200128/nww320200128_00z'"
     ]
    }
   ],
   "source": [
    "# Can NOT grab data older than 1 week! \n",
    "mydate='20200128'\n",
    "url='https://nomads.ncep.noaa.gov:9090/dods/wave/nww3/nww3'+ \\\n",
    "    mydate+'/nww3'+mydate+'_00z'\n",
    "\n",
    "# Extract the significant wave height of combined wind waves and swell\n",
    "file = netCDF4.Dataset(url)\n",
    "data = file.variables['htsgwsfc'][:,1,1]\n",
    "# htsgwsfc long_name: \"** surface none significant height of combined wind waves and swell [m] \" \n",
    "file.close()"
   ]
  },
  {
   "cell_type": "code",
   "execution_count": null,
   "metadata": {},
   "outputs": [],
   "source": []
  }
 ],
 "metadata": {
  "kernelspec": {
   "display_name": "Python 3",
   "language": "python",
   "name": "python3"
  },
  "language_info": {
   "codemirror_mode": {
    "name": "ipython",
    "version": 3
   },
   "file_extension": ".py",
   "mimetype": "text/x-python",
   "name": "python",
   "nbconvert_exporter": "python",
   "pygments_lexer": "ipython3",
   "version": "3.7.6"
  },
  "toc": {
   "base_numbering": 1,
   "nav_menu": {},
   "number_sections": true,
   "sideBar": true,
   "skip_h1_title": false,
   "title_cell": "Table of Contents",
   "title_sidebar": "Contents",
   "toc_cell": false,
   "toc_position": {},
   "toc_section_display": true,
   "toc_window_display": false
  }
 },
 "nbformat": 4,
 "nbformat_minor": 4
}
